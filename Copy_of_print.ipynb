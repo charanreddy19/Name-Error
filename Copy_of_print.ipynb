{
  "nbformat": 4,
  "nbformat_minor": 0,
  "metadata": {
    "colab": {
      "name": "Copy of print.ipynb",
      "provenance": [],
      "authorship_tag": "ABX9TyODEsgHMCM7GE5yvS3eKoJ6",
      "include_colab_link": true
    },
    "kernelspec": {
      "name": "python3",
      "display_name": "Python 3"
    }
  },
  "cells": [
    {
      "cell_type": "markdown",
      "metadata": {
        "id": "view-in-github",
        "colab_type": "text"
      },
      "source": [
        "<a href=\"https://colab.research.google.com/github/charanreddy19/Name-Error/blob/master/Copy_of_print.ipynb\" target=\"_parent\"><img src=\"https://colab.research.google.com/assets/colab-badge.svg\" alt=\"Open In Colab\"/></a>"
      ]
    },
    {
      "cell_type": "code",
      "metadata": {
        "id": "89FdjaafiuYS",
        "colab_type": "code",
        "colab": {
          "base_uri": "https://localhost:8080/",
          "height": 34
        },
        "outputId": "ebf31221-d389-46ab-b30a-871a135b5a1b"
      },
      "source": [
        "li=[]\n",
        "for i in range(10,21):      #to print prime numbers between 10 to 20\n",
        "    for j in range(2,i):\n",
        "      if i%j==0:\n",
        "        break\n",
        "    else:\n",
        "        li.append(i)\n",
        "print('prime numbers list is',li)\n",
        "    \n",
        "\n"
      ],
      "execution_count": null,
      "outputs": [
        {
          "output_type": "stream",
          "text": [
            "[11, 13, 17, 19]\n"
          ],
          "name": "stdout"
        }
      ]
    }
  ]
}